{
 "cells": [
  {
   "cell_type": "markdown",
   "id": "ccfe1baa",
   "metadata": {},
   "source": [
    "# Some Experimentation"
   ]
  },
  {
   "cell_type": "code",
   "execution_count": null,
   "id": "4382fabe",
   "metadata": {},
   "outputs": [],
   "source": [
    "from transformers import AutoModelForCausalLM, AutoTokenizer\n",
    "import torch"
   ]
  },
  {
   "cell_type": "code",
   "execution_count": 2,
   "id": "b9d1a2b7",
   "metadata": {},
   "outputs": [],
   "source": [
    "# Load model and tokenizer\n",
    "model_name = \"Qwen/Qwen1.5-1.8B-Chat\"\n",
    "tokenizer = AutoTokenizer.from_pretrained(model_name, trust_remote_code=True)\n",
    "model = AutoModelForCausalLM.from_pretrained(model_name, trust_remote_code=True).eval().to(\"mps\")"
   ]
  },
  {
   "cell_type": "code",
   "execution_count": 8,
   "id": "fe35dede",
   "metadata": {},
   "outputs": [],
   "source": [
    "question = 'Answer this question in French: Who is the first president of USA'"
   ]
  },
  {
   "cell_type": "code",
   "execution_count": 15,
   "id": "b37d7b8e",
   "metadata": {},
   "outputs": [],
   "source": [
    "messages = [\n",
    "    {\"role\": \"system\", \"content\": \"You are a helpful assistant.\"},\n",
    "    {\"role\": \"user\", \"content\": question}\n",
    "]\n",
    "prompt = tokenizer.apply_chat_template(messages, tokenize=False, add_generation_prompt=True)"
   ]
  },
  {
   "cell_type": "code",
   "execution_count": 25,
   "id": "a093e29e",
   "metadata": {},
   "outputs": [],
   "source": [
    "inputs = tokenizer(prompt, return_tensors=\"pt\").to(\"mps\")\n",
    "\n",
    "output_ids = model.generate(\n",
    "    **inputs,\n",
    "    max_new_tokens=50\n",
    ")"
   ]
  },
  {
   "cell_type": "code",
   "execution_count": 27,
   "id": "ad04123b",
   "metadata": {},
   "outputs": [
    {
     "name": "stdout",
     "output_type": "stream",
     "text": [
      "✅ Response:\n",
      " system\n",
      "You are a helpful assistant.\n",
      "user\n",
      "Answer this question in French: Who is the first president of USA\n",
      "assistant\n",
      "L' première président des États-Unis est Franklin D. Roosevelt, qui a été élu en 1932. En tant que chef du gouvernement républicain de l'Amérique latine, il a exercé\n"
     ]
    }
   ],
   "source": [
    "response = tokenizer.decode(output_ids[0], skip_special_tokens=True)\n",
    "print(\"✅ Response:\\n\", response)"
   ]
  }
 ],
 "metadata": {
  "kernelspec": {
   "display_name": "algo-neutrality",
   "language": "python",
   "name": "python3"
  },
  "language_info": {
   "codemirror_mode": {
    "name": "ipython",
    "version": 3
   },
   "file_extension": ".py",
   "mimetype": "text/x-python",
   "name": "python",
   "nbconvert_exporter": "python",
   "pygments_lexer": "ipython3",
   "version": "3.12.11"
  }
 },
 "nbformat": 4,
 "nbformat_minor": 5
}

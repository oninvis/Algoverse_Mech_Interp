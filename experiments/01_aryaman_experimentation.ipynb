{
 "cells": [
  {
   "cell_type": "markdown",
   "id": "94f51544",
   "metadata": {},
   "source": [
    "# Example by Lovkush of how experimentation might look"
   ]
  },
  {
   "cell_type": "code",
   "execution_count": 1,
   "id": "96838a56",
   "metadata": {},
   "outputs": [
    {
     "name": "stdout",
     "output_type": "stream",
     "text": [
      "Requirement already satisfied: transformer_lens in /Users/mistovek016/Library/Mobile Documents/com~apple~CloudDocs/Desktop/Coding/Algoverse_Mech_Interp/.venv/lib/python3.9/site-packages (2.16.1)\n",
      "Requirement already satisfied: transformers in /Users/mistovek016/Library/Mobile Documents/com~apple~CloudDocs/Desktop/Coding/Algoverse_Mech_Interp/.venv/lib/python3.9/site-packages (4.55.0)\n",
      "Requirement already satisfied: jaxtyping in /Users/mistovek016/Library/Mobile Documents/com~apple~CloudDocs/Desktop/Coding/Algoverse_Mech_Interp/.venv/lib/python3.9/site-packages (0.2.36)\n",
      "Requirement already satisfied: huggingface_hub[cli] in /Users/mistovek016/Library/Mobile Documents/com~apple~CloudDocs/Desktop/Coding/Algoverse_Mech_Interp/.venv/lib/python3.9/site-packages (0.34.3)\n",
      "Requirement already satisfied: accelerate>=0.23.0 in /Users/mistovek016/Library/Mobile Documents/com~apple~CloudDocs/Desktop/Coding/Algoverse_Mech_Interp/.venv/lib/python3.9/site-packages (from transformer_lens) (1.9.0)\n",
      "Requirement already satisfied: beartype<0.15.0,>=0.14.1 in /Users/mistovek016/Library/Mobile Documents/com~apple~CloudDocs/Desktop/Coding/Algoverse_Mech_Interp/.venv/lib/python3.9/site-packages (from transformer_lens) (0.14.1)\n",
      "Requirement already satisfied: better-abc<0.0.4,>=0.0.3 in /Users/mistovek016/Library/Mobile Documents/com~apple~CloudDocs/Desktop/Coding/Algoverse_Mech_Interp/.venv/lib/python3.9/site-packages (from transformer_lens) (0.0.3)\n",
      "Requirement already satisfied: datasets>=2.7.1 in /Users/mistovek016/Library/Mobile Documents/com~apple~CloudDocs/Desktop/Coding/Algoverse_Mech_Interp/.venv/lib/python3.9/site-packages (from transformer_lens) (4.0.0)\n",
      "Requirement already satisfied: einops>=0.6.0 in /Users/mistovek016/Library/Mobile Documents/com~apple~CloudDocs/Desktop/Coding/Algoverse_Mech_Interp/.venv/lib/python3.9/site-packages (from transformer_lens) (0.8.1)\n",
      "Requirement already satisfied: fancy-einsum>=0.0.3 in /Users/mistovek016/Library/Mobile Documents/com~apple~CloudDocs/Desktop/Coding/Algoverse_Mech_Interp/.venv/lib/python3.9/site-packages (from transformer_lens) (0.0.3)\n",
      "Requirement already satisfied: numpy<2,>=1.24 in /Users/mistovek016/Library/Mobile Documents/com~apple~CloudDocs/Desktop/Coding/Algoverse_Mech_Interp/.venv/lib/python3.9/site-packages (from transformer_lens) (1.26.4)\n",
      "Requirement already satisfied: pandas>=1.1.5 in /Users/mistovek016/Library/Mobile Documents/com~apple~CloudDocs/Desktop/Coding/Algoverse_Mech_Interp/.venv/lib/python3.9/site-packages (from transformer_lens) (2.3.1)\n",
      "Requirement already satisfied: rich>=12.6.0 in /Users/mistovek016/Library/Mobile Documents/com~apple~CloudDocs/Desktop/Coding/Algoverse_Mech_Interp/.venv/lib/python3.9/site-packages (from transformer_lens) (14.1.0)\n",
      "Requirement already satisfied: sentencepiece in /Users/mistovek016/Library/Mobile Documents/com~apple~CloudDocs/Desktop/Coding/Algoverse_Mech_Interp/.venv/lib/python3.9/site-packages (from transformer_lens) (0.2.0)\n",
      "Requirement already satisfied: torch>=2.6 in /Users/mistovek016/Library/Mobile Documents/com~apple~CloudDocs/Desktop/Coding/Algoverse_Mech_Interp/.venv/lib/python3.9/site-packages (from transformer_lens) (2.7.1)\n",
      "Requirement already satisfied: tqdm>=4.64.1 in /Users/mistovek016/Library/Mobile Documents/com~apple~CloudDocs/Desktop/Coding/Algoverse_Mech_Interp/.venv/lib/python3.9/site-packages (from transformer_lens) (4.67.1)\n",
      "Requirement already satisfied: transformers-stream-generator<0.0.6,>=0.0.5 in /Users/mistovek016/Library/Mobile Documents/com~apple~CloudDocs/Desktop/Coding/Algoverse_Mech_Interp/.venv/lib/python3.9/site-packages (from transformer_lens) (0.0.5)\n",
      "Requirement already satisfied: typeguard<5.0,>=4.2 in /Users/mistovek016/Library/Mobile Documents/com~apple~CloudDocs/Desktop/Coding/Algoverse_Mech_Interp/.venv/lib/python3.9/site-packages (from transformer_lens) (4.4.4)\n",
      "Requirement already satisfied: typing-extensions in /Users/mistovek016/Library/Mobile Documents/com~apple~CloudDocs/Desktop/Coding/Algoverse_Mech_Interp/.venv/lib/python3.9/site-packages (from transformer_lens) (4.14.1)\n",
      "Requirement already satisfied: wandb>=0.13.5 in /Users/mistovek016/Library/Mobile Documents/com~apple~CloudDocs/Desktop/Coding/Algoverse_Mech_Interp/.venv/lib/python3.9/site-packages (from transformer_lens) (0.21.0)\n",
      "Requirement already satisfied: importlib_metadata>=3.6 in /Users/mistovek016/Library/Mobile Documents/com~apple~CloudDocs/Desktop/Coding/Algoverse_Mech_Interp/.venv/lib/python3.9/site-packages (from typeguard<5.0,>=4.2->transformer_lens) (8.7.0)\n",
      "Requirement already satisfied: filelock in /Users/mistovek016/Library/Mobile Documents/com~apple~CloudDocs/Desktop/Coding/Algoverse_Mech_Interp/.venv/lib/python3.9/site-packages (from huggingface_hub[cli]) (3.18.0)\n",
      "Requirement already satisfied: fsspec>=2023.5.0 in /Users/mistovek016/Library/Mobile Documents/com~apple~CloudDocs/Desktop/Coding/Algoverse_Mech_Interp/.venv/lib/python3.9/site-packages (from huggingface_hub[cli]) (2025.3.0)\n",
      "Requirement already satisfied: packaging>=20.9 in /Users/mistovek016/Library/Mobile Documents/com~apple~CloudDocs/Desktop/Coding/Algoverse_Mech_Interp/.venv/lib/python3.9/site-packages (from huggingface_hub[cli]) (25.0)\n",
      "Requirement already satisfied: pyyaml>=5.1 in /Users/mistovek016/Library/Mobile Documents/com~apple~CloudDocs/Desktop/Coding/Algoverse_Mech_Interp/.venv/lib/python3.9/site-packages (from huggingface_hub[cli]) (6.0.2)\n",
      "Requirement already satisfied: requests in /Users/mistovek016/Library/Mobile Documents/com~apple~CloudDocs/Desktop/Coding/Algoverse_Mech_Interp/.venv/lib/python3.9/site-packages (from huggingface_hub[cli]) (2.32.4)\n",
      "Requirement already satisfied: hf-xet<2.0.0,>=1.1.3 in /Users/mistovek016/Library/Mobile Documents/com~apple~CloudDocs/Desktop/Coding/Algoverse_Mech_Interp/.venv/lib/python3.9/site-packages (from huggingface_hub[cli]) (1.1.7)\n",
      "Requirement already satisfied: InquirerPy==0.3.4 in /Users/mistovek016/Library/Mobile Documents/com~apple~CloudDocs/Desktop/Coding/Algoverse_Mech_Interp/.venv/lib/python3.9/site-packages (from huggingface_hub[cli]) (0.3.4)\n",
      "Requirement already satisfied: pfzy<0.4.0,>=0.3.1 in /Users/mistovek016/Library/Mobile Documents/com~apple~CloudDocs/Desktop/Coding/Algoverse_Mech_Interp/.venv/lib/python3.9/site-packages (from InquirerPy==0.3.4->huggingface_hub[cli]) (0.3.4)\n",
      "Requirement already satisfied: prompt-toolkit<4.0.0,>=3.0.1 in /Users/mistovek016/Library/Mobile Documents/com~apple~CloudDocs/Desktop/Coding/Algoverse_Mech_Interp/.venv/lib/python3.9/site-packages (from InquirerPy==0.3.4->huggingface_hub[cli]) (3.0.51)\n",
      "Requirement already satisfied: wcwidth in /Users/mistovek016/Library/Mobile Documents/com~apple~CloudDocs/Desktop/Coding/Algoverse_Mech_Interp/.venv/lib/python3.9/site-packages (from prompt-toolkit<4.0.0,>=3.0.1->InquirerPy==0.3.4->huggingface_hub[cli]) (0.2.13)\n",
      "Requirement already satisfied: regex!=2019.12.17 in /Users/mistovek016/Library/Mobile Documents/com~apple~CloudDocs/Desktop/Coding/Algoverse_Mech_Interp/.venv/lib/python3.9/site-packages (from transformers) (2025.7.34)\n",
      "Requirement already satisfied: tokenizers<0.22,>=0.21 in /Users/mistovek016/Library/Mobile Documents/com~apple~CloudDocs/Desktop/Coding/Algoverse_Mech_Interp/.venv/lib/python3.9/site-packages (from transformers) (0.21.4)\n",
      "Requirement already satisfied: safetensors>=0.4.3 in /Users/mistovek016/Library/Mobile Documents/com~apple~CloudDocs/Desktop/Coding/Algoverse_Mech_Interp/.venv/lib/python3.9/site-packages (from transformers) (0.5.3)\n",
      "Requirement already satisfied: psutil in /Users/mistovek016/Library/Mobile Documents/com~apple~CloudDocs/Desktop/Coding/Algoverse_Mech_Interp/.venv/lib/python3.9/site-packages (from accelerate>=0.23.0->transformer_lens) (7.0.0)\n",
      "Requirement already satisfied: pyarrow>=15.0.0 in /Users/mistovek016/Library/Mobile Documents/com~apple~CloudDocs/Desktop/Coding/Algoverse_Mech_Interp/.venv/lib/python3.9/site-packages (from datasets>=2.7.1->transformer_lens) (21.0.0)\n",
      "Requirement already satisfied: dill<0.3.9,>=0.3.0 in /Users/mistovek016/Library/Mobile Documents/com~apple~CloudDocs/Desktop/Coding/Algoverse_Mech_Interp/.venv/lib/python3.9/site-packages (from datasets>=2.7.1->transformer_lens) (0.3.8)\n",
      "Requirement already satisfied: xxhash in /Users/mistovek016/Library/Mobile Documents/com~apple~CloudDocs/Desktop/Coding/Algoverse_Mech_Interp/.venv/lib/python3.9/site-packages (from datasets>=2.7.1->transformer_lens) (3.5.0)\n",
      "Requirement already satisfied: multiprocess<0.70.17 in /Users/mistovek016/Library/Mobile Documents/com~apple~CloudDocs/Desktop/Coding/Algoverse_Mech_Interp/.venv/lib/python3.9/site-packages (from datasets>=2.7.1->transformer_lens) (0.70.16)\n",
      "Requirement already satisfied: aiohttp!=4.0.0a0,!=4.0.0a1 in /Users/mistovek016/Library/Mobile Documents/com~apple~CloudDocs/Desktop/Coding/Algoverse_Mech_Interp/.venv/lib/python3.9/site-packages (from fsspec[http]<=2025.3.0,>=2023.1.0->datasets>=2.7.1->transformer_lens) (3.12.15)\n",
      "Requirement already satisfied: aiohappyeyeballs>=2.5.0 in /Users/mistovek016/Library/Mobile Documents/com~apple~CloudDocs/Desktop/Coding/Algoverse_Mech_Interp/.venv/lib/python3.9/site-packages (from aiohttp!=4.0.0a0,!=4.0.0a1->fsspec[http]<=2025.3.0,>=2023.1.0->datasets>=2.7.1->transformer_lens) (2.6.1)\n",
      "Requirement already satisfied: aiosignal>=1.4.0 in /Users/mistovek016/Library/Mobile Documents/com~apple~CloudDocs/Desktop/Coding/Algoverse_Mech_Interp/.venv/lib/python3.9/site-packages (from aiohttp!=4.0.0a0,!=4.0.0a1->fsspec[http]<=2025.3.0,>=2023.1.0->datasets>=2.7.1->transformer_lens) (1.4.0)\n",
      "Requirement already satisfied: async-timeout<6.0,>=4.0 in /Users/mistovek016/Library/Mobile Documents/com~apple~CloudDocs/Desktop/Coding/Algoverse_Mech_Interp/.venv/lib/python3.9/site-packages (from aiohttp!=4.0.0a0,!=4.0.0a1->fsspec[http]<=2025.3.0,>=2023.1.0->datasets>=2.7.1->transformer_lens) (5.0.1)\n",
      "Requirement already satisfied: attrs>=17.3.0 in /Users/mistovek016/Library/Mobile Documents/com~apple~CloudDocs/Desktop/Coding/Algoverse_Mech_Interp/.venv/lib/python3.9/site-packages (from aiohttp!=4.0.0a0,!=4.0.0a1->fsspec[http]<=2025.3.0,>=2023.1.0->datasets>=2.7.1->transformer_lens) (25.3.0)\n",
      "Requirement already satisfied: frozenlist>=1.1.1 in /Users/mistovek016/Library/Mobile Documents/com~apple~CloudDocs/Desktop/Coding/Algoverse_Mech_Interp/.venv/lib/python3.9/site-packages (from aiohttp!=4.0.0a0,!=4.0.0a1->fsspec[http]<=2025.3.0,>=2023.1.0->datasets>=2.7.1->transformer_lens) (1.7.0)\n",
      "Requirement already satisfied: multidict<7.0,>=4.5 in /Users/mistovek016/Library/Mobile Documents/com~apple~CloudDocs/Desktop/Coding/Algoverse_Mech_Interp/.venv/lib/python3.9/site-packages (from aiohttp!=4.0.0a0,!=4.0.0a1->fsspec[http]<=2025.3.0,>=2023.1.0->datasets>=2.7.1->transformer_lens) (6.6.3)\n",
      "Requirement already satisfied: propcache>=0.2.0 in /Users/mistovek016/Library/Mobile Documents/com~apple~CloudDocs/Desktop/Coding/Algoverse_Mech_Interp/.venv/lib/python3.9/site-packages (from aiohttp!=4.0.0a0,!=4.0.0a1->fsspec[http]<=2025.3.0,>=2023.1.0->datasets>=2.7.1->transformer_lens) (0.3.2)\n",
      "Requirement already satisfied: yarl<2.0,>=1.17.0 in /Users/mistovek016/Library/Mobile Documents/com~apple~CloudDocs/Desktop/Coding/Algoverse_Mech_Interp/.venv/lib/python3.9/site-packages (from aiohttp!=4.0.0a0,!=4.0.0a1->fsspec[http]<=2025.3.0,>=2023.1.0->datasets>=2.7.1->transformer_lens) (1.20.1)\n",
      "Requirement already satisfied: idna>=2.0 in /Users/mistovek016/Library/Mobile Documents/com~apple~CloudDocs/Desktop/Coding/Algoverse_Mech_Interp/.venv/lib/python3.9/site-packages (from yarl<2.0,>=1.17.0->aiohttp!=4.0.0a0,!=4.0.0a1->fsspec[http]<=2025.3.0,>=2023.1.0->datasets>=2.7.1->transformer_lens) (3.10)\n",
      "Requirement already satisfied: zipp>=3.20 in /Users/mistovek016/Library/Mobile Documents/com~apple~CloudDocs/Desktop/Coding/Algoverse_Mech_Interp/.venv/lib/python3.9/site-packages (from importlib_metadata>=3.6->typeguard<5.0,>=4.2->transformer_lens) (3.23.0)\n",
      "Requirement already satisfied: python-dateutil>=2.8.2 in /Users/mistovek016/Library/Mobile Documents/com~apple~CloudDocs/Desktop/Coding/Algoverse_Mech_Interp/.venv/lib/python3.9/site-packages (from pandas>=1.1.5->transformer_lens) (2.9.0.post0)\n",
      "Requirement already satisfied: pytz>=2020.1 in /Users/mistovek016/Library/Mobile Documents/com~apple~CloudDocs/Desktop/Coding/Algoverse_Mech_Interp/.venv/lib/python3.9/site-packages (from pandas>=1.1.5->transformer_lens) (2025.2)\n",
      "Requirement already satisfied: tzdata>=2022.7 in /Users/mistovek016/Library/Mobile Documents/com~apple~CloudDocs/Desktop/Coding/Algoverse_Mech_Interp/.venv/lib/python3.9/site-packages (from pandas>=1.1.5->transformer_lens) (2025.2)\n",
      "Requirement already satisfied: six>=1.5 in /Users/mistovek016/Library/Mobile Documents/com~apple~CloudDocs/Desktop/Coding/Algoverse_Mech_Interp/.venv/lib/python3.9/site-packages (from python-dateutil>=2.8.2->pandas>=1.1.5->transformer_lens) (1.17.0)\n",
      "Requirement already satisfied: charset_normalizer<4,>=2 in /Users/mistovek016/Library/Mobile Documents/com~apple~CloudDocs/Desktop/Coding/Algoverse_Mech_Interp/.venv/lib/python3.9/site-packages (from requests->huggingface_hub[cli]) (3.4.2)\n",
      "Requirement already satisfied: urllib3<3,>=1.21.1 in /Users/mistovek016/Library/Mobile Documents/com~apple~CloudDocs/Desktop/Coding/Algoverse_Mech_Interp/.venv/lib/python3.9/site-packages (from requests->huggingface_hub[cli]) (2.5.0)\n",
      "Requirement already satisfied: certifi>=2017.4.17 in /Users/mistovek016/Library/Mobile Documents/com~apple~CloudDocs/Desktop/Coding/Algoverse_Mech_Interp/.venv/lib/python3.9/site-packages (from requests->huggingface_hub[cli]) (2025.8.3)\n",
      "Requirement already satisfied: markdown-it-py>=2.2.0 in /Users/mistovek016/Library/Mobile Documents/com~apple~CloudDocs/Desktop/Coding/Algoverse_Mech_Interp/.venv/lib/python3.9/site-packages (from rich>=12.6.0->transformer_lens) (3.0.0)\n",
      "Requirement already satisfied: pygments<3.0.0,>=2.13.0 in /Users/mistovek016/Library/Mobile Documents/com~apple~CloudDocs/Desktop/Coding/Algoverse_Mech_Interp/.venv/lib/python3.9/site-packages (from rich>=12.6.0->transformer_lens) (2.19.2)\n",
      "Requirement already satisfied: mdurl~=0.1 in /Users/mistovek016/Library/Mobile Documents/com~apple~CloudDocs/Desktop/Coding/Algoverse_Mech_Interp/.venv/lib/python3.9/site-packages (from markdown-it-py>=2.2.0->rich>=12.6.0->transformer_lens) (0.1.2)\n",
      "Requirement already satisfied: sympy>=1.13.3 in /Users/mistovek016/Library/Mobile Documents/com~apple~CloudDocs/Desktop/Coding/Algoverse_Mech_Interp/.venv/lib/python3.9/site-packages (from torch>=2.6->transformer_lens) (1.14.0)\n",
      "Requirement already satisfied: networkx in /Users/mistovek016/Library/Mobile Documents/com~apple~CloudDocs/Desktop/Coding/Algoverse_Mech_Interp/.venv/lib/python3.9/site-packages (from torch>=2.6->transformer_lens) (3.2.1)\n",
      "Requirement already satisfied: jinja2 in /Users/mistovek016/Library/Mobile Documents/com~apple~CloudDocs/Desktop/Coding/Algoverse_Mech_Interp/.venv/lib/python3.9/site-packages (from torch>=2.6->transformer_lens) (3.1.6)\n",
      "Requirement already satisfied: mpmath<1.4,>=1.1.0 in /Users/mistovek016/Library/Mobile Documents/com~apple~CloudDocs/Desktop/Coding/Algoverse_Mech_Interp/.venv/lib/python3.9/site-packages (from sympy>=1.13.3->torch>=2.6->transformer_lens) (1.3.0)\n",
      "Requirement already satisfied: click!=8.0.0,>=7.1 in /Users/mistovek016/Library/Mobile Documents/com~apple~CloudDocs/Desktop/Coding/Algoverse_Mech_Interp/.venv/lib/python3.9/site-packages (from wandb>=0.13.5->transformer_lens) (8.1.8)\n",
      "Requirement already satisfied: eval-type-backport in /Users/mistovek016/Library/Mobile Documents/com~apple~CloudDocs/Desktop/Coding/Algoverse_Mech_Interp/.venv/lib/python3.9/site-packages (from wandb>=0.13.5->transformer_lens) (0.2.2)\n",
      "Requirement already satisfied: gitpython!=3.1.29,>=1.0.0 in /Users/mistovek016/Library/Mobile Documents/com~apple~CloudDocs/Desktop/Coding/Algoverse_Mech_Interp/.venv/lib/python3.9/site-packages (from wandb>=0.13.5->transformer_lens) (3.1.45)\n",
      "Requirement already satisfied: platformdirs in /Users/mistovek016/Library/Mobile Documents/com~apple~CloudDocs/Desktop/Coding/Algoverse_Mech_Interp/.venv/lib/python3.9/site-packages (from wandb>=0.13.5->transformer_lens) (4.3.8)\n",
      "Requirement already satisfied: protobuf!=4.21.0,!=5.28.0,<7,>=3.19.0 in /Users/mistovek016/Library/Mobile Documents/com~apple~CloudDocs/Desktop/Coding/Algoverse_Mech_Interp/.venv/lib/python3.9/site-packages (from wandb>=0.13.5->transformer_lens) (6.31.1)\n",
      "Requirement already satisfied: pydantic<3 in /Users/mistovek016/Library/Mobile Documents/com~apple~CloudDocs/Desktop/Coding/Algoverse_Mech_Interp/.venv/lib/python3.9/site-packages (from wandb>=0.13.5->transformer_lens) (2.11.7)\n",
      "Requirement already satisfied: sentry-sdk>=2.0.0 in /Users/mistovek016/Library/Mobile Documents/com~apple~CloudDocs/Desktop/Coding/Algoverse_Mech_Interp/.venv/lib/python3.9/site-packages (from wandb>=0.13.5->transformer_lens) (2.34.1)\n",
      "Requirement already satisfied: annotated-types>=0.6.0 in /Users/mistovek016/Library/Mobile Documents/com~apple~CloudDocs/Desktop/Coding/Algoverse_Mech_Interp/.venv/lib/python3.9/site-packages (from pydantic<3->wandb>=0.13.5->transformer_lens) (0.7.0)\n",
      "Requirement already satisfied: pydantic-core==2.33.2 in /Users/mistovek016/Library/Mobile Documents/com~apple~CloudDocs/Desktop/Coding/Algoverse_Mech_Interp/.venv/lib/python3.9/site-packages (from pydantic<3->wandb>=0.13.5->transformer_lens) (2.33.2)\n",
      "Requirement already satisfied: typing-inspection>=0.4.0 in /Users/mistovek016/Library/Mobile Documents/com~apple~CloudDocs/Desktop/Coding/Algoverse_Mech_Interp/.venv/lib/python3.9/site-packages (from pydantic<3->wandb>=0.13.5->transformer_lens) (0.4.1)\n",
      "Requirement already satisfied: gitdb<5,>=4.0.1 in /Users/mistovek016/Library/Mobile Documents/com~apple~CloudDocs/Desktop/Coding/Algoverse_Mech_Interp/.venv/lib/python3.9/site-packages (from gitpython!=3.1.29,>=1.0.0->wandb>=0.13.5->transformer_lens) (4.0.12)\n",
      "Requirement already satisfied: smmap<6,>=3.0.1 in /Users/mistovek016/Library/Mobile Documents/com~apple~CloudDocs/Desktop/Coding/Algoverse_Mech_Interp/.venv/lib/python3.9/site-packages (from gitdb<5,>=4.0.1->gitpython!=3.1.29,>=1.0.0->wandb>=0.13.5->transformer_lens) (5.0.2)\n",
      "Requirement already satisfied: MarkupSafe>=2.0 in /Users/mistovek016/Library/Mobile Documents/com~apple~CloudDocs/Desktop/Coding/Algoverse_Mech_Interp/.venv/lib/python3.9/site-packages (from jinja2->torch>=2.6->transformer_lens) (3.0.2)\n",
      "Note: you may need to restart the kernel to use updated packages.\n"
     ]
    }
   ],
   "source": [
    "pip install transformer_lens -U \"huggingface_hub[cli]\" transformers jaxtyping"
   ]
  },
  {
   "cell_type": "code",
   "execution_count": null,
   "id": "cdf027ac",
   "metadata": {},
   "outputs": [],
   "source": [
    "from src.utils import get_current_time_str\n",
    "from src.utils import get_repo_root\n",
    "from tqdm import tqdm\n",
    "from transformer_lens.hook_points import HookPoint\n",
    "from transformer_lens import HookedTransformer\n",
    "import torch"
   ]
  },
  {
   "cell_type": "code",
   "execution_count": 3,
   "id": "5678b310",
   "metadata": {},
   "outputs": [
    {
     "data": {
      "text/plain": [
       "device(type='mps')"
      ]
     },
     "execution_count": 3,
     "metadata": {},
     "output_type": "execute_result"
    }
   ],
   "source": [
    "def getDevice():\n",
    "    if torch.cuda.is_available(): #nvidia/runpod\n",
    "        return torch.device(\"cuda\")\n",
    "    elif torch.backends.mps.is_available():\n",
    "        return torch.device(\"mps\") #apple silicon\n",
    "    else:\n",
    "        return torch.device(\"cpu\")\n",
    "    \n",
    "DEVICE = getDevice()\n",
    "DEVICE"
   ]
  },
  {
   "cell_type": "code",
   "execution_count": 4,
   "id": "9709ebff",
   "metadata": {},
   "outputs": [
    {
     "name": "stderr",
     "output_type": "stream",
     "text": [
      "The following generation flags are not valid and may be ignored: ['output_hidden_states']. Set `TRANSFORMERS_VERBOSITY=info` for more details.\n",
      "The following generation flags are not valid and may be ignored: ['output_hidden_states']. Set `TRANSFORMERS_VERBOSITY=info` for more details.\n"
     ]
    },
    {
     "name": "stdout",
     "output_type": "stream",
     "text": [
      "Loaded pretrained model Qwen/Qwen1.5-1.8B-Chat into HookedTransformer\n",
      "Moving model to device:  mps\n"
     ]
    }
   ],
   "source": [
    "def get_model(model_name):\n",
    "    # load model from HF and get all the hidden states\n",
    "    model = HookedTransformer.from_pretrained_no_processing(model_name, device = DEVICE, dtype=torch.float16, default_padding_side='left', output_hidden_states=True)\n",
    "    model.eval() #inference mode - no gradients needed\n",
    "    model.to(DEVICE)\n",
    "    return model\n",
    "\n",
    "model = get_model(\"Qwen/Qwen1.5-1.8B-Chat\")"
   ]
  },
  {
   "cell_type": "code",
   "execution_count": null,
   "id": "2a0d1758",
   "metadata": {},
   "outputs": [],
   "source": [
    "def tokenize_prompt(model: HookedTransformer, prompt_str: str, verbose=False) -> str:\n",
    "    prompt_message = [\n",
    "        {\"role\": \"system\", \"content\": \"You are a helpful assistant.\"},\n",
    "        {\"role\": \"user\", \"content\": prompt_str}\n",
    "    ]\n",
    "\n",
    "    if verbose:\n",
    "        print(model.tokenizer.apply_chat_template(\n",
    "            prompt_message,\n",
    "            tokenize=False,\n",
    "            add_generation_prompt=True\n",
    "        ))\n",
    "    prompt_chat_tokenized = model.tokenizer.apply_chat_template(\n",
    "        prompt_message, tokenize=True, add_generation_prompt=True)\n",
    "    prompt_chat_str = model.tokenizer.apply_chat_template(\n",
    "        prompt_message, tokenize=False, add_generation_prompt=True)\n",
    "    return prompt_chat_tokenized, prompt_chat_str\n",
    "\n",
    "def generate_output(model: HookedTransformer, prompt_chat_str: str, max_new_tokens: int) -> tuple[str, dict, int]:\n",
    "    \"\"\"Generate output string, cache, and number of tokens generated.\"\"\"\n",
    "    output_str = prompt_chat_str\n",
    "    for i in tqdm(range(max_new_tokens)):\n",
    "        # Get the logits and cache for the current prompt\n",
    "        logits, cache = model.run_with_cache(output_str)\n",
    "\n",
    "        # Get the predicted next token (using argmax for temperature 0)\n",
    "        next_token = logits[0, -1].argmax()\n",
    "\n",
    "        # Convert the next token to a string\n",
    "        next_token_str = model.to_string(next_token)\n",
    "\n",
    "        # Append the new token to the prompt for the next iteration\n",
    "        output_str += next_token_str\n",
    "        \n",
    "        if next_token.item() == model.tokenizer.eos_token_id:\n",
    "            break\n",
    "    \n",
    "    return output_str, cache, i+1\n",
    "\n",
    "def get_mean_resids_per_layer(model: HookedTransformer, cache: dict, n_tokens_generated: int, n_tokens_input: int) -> list[torch.Tensor]:\n",
    "    mean_resids_per_layer: list[torch.Tensor] = []\n",
    "    n_tokens = n_tokens_generated + n_tokens_input\n",
    "\n",
    "    for layer in range(model.cfg.n_layers):\n",
    "        resids_pre = cache[f\"blocks.{layer}.hook_resid_pre\"] # (batch, seq_len, d_model)\n",
    "        assert resids_pre.shape == (1, n_tokens-1, model.cfg.d_model)\n",
    "\n",
    "        # keep only residuals for the generated tokens\n",
    "        resids_pre = resids_pre[:, n_tokens_input:]\n",
    "        assert resids_pre.shape == (1, n_tokens_generated-1, model.cfg.d_model)\n",
    "        \n",
    "        # take the mean across tokens\n",
    "        resids_pre = resids_pre.mean(dim=1, keepdim=True)\n",
    "        assert resids_pre.shape == (1, 1, model.cfg.d_model)\n",
    "\n",
    "        # remove unneccesary dimensions\n",
    "        resids_pre = resids_pre.squeeze(dim=[0,1])\n",
    "        # assert len(resids_pre) == model.cfg.d_model\n",
    "        assert resids_pre.shape == (model.cfg.d_model,)\n",
    "\n",
    "        mean_resids_per_layer.append(resids_pre.detach().clone())\n",
    "\n",
    "    assert len(mean_resids_per_layer) == model.cfg.n_layers\n",
    "\n",
    "    return mean_resids_per_layer\n",
    "\n",
    "def get_steering_vector_per_layer(\n",
    "    model: HookedTransformer,\n",
    "    prompt1: str,\n",
    "    prompt2: str,\n",
    "    verbose: bool,\n",
    "    max_new_tokens: int,\n",
    ") -> tuple[list[torch.Tensor], str, str]:\n",
    "    prompt1_chat_tokenized, prompt1_chat_str = tokenize_prompt(model, prompt1, verbose)\n",
    "    prompt2_chat_tokenized, prompt2_chat_str = tokenize_prompt(model, prompt2, verbose)\n",
    "    output1, cache1, n_tokens_generated1 = generate_output(model, prompt1_chat_str, max_new_tokens)\n",
    "    output2, cache2, n_tokens_generated2 = generate_output(model, prompt2_chat_str, max_new_tokens)\n",
    "    mean_resids_per_layer1 = get_mean_resids_per_layer(model, cache1, n_tokens_generated1, len(prompt1_chat_tokenized))\n",
    "    mean_resids_per_layer2 = get_mean_resids_per_layer(model, cache2, n_tokens_generated2, len(prompt2_chat_tokenized))\n",
    "\n",
    "    steering_vector_per_layer = [r1 - r2 for r1, r2 in zip(mean_resids_per_layer1, mean_resids_per_layer2)] #keep in mind the direction\n",
    "    return steering_vector_per_layer, output1, output2\n"
   ]
  },
  {
   "cell_type": "code",
   "execution_count": 42,
   "id": "e035bc76",
   "metadata": {},
   "outputs": [
    {
     "name": "stdout",
     "output_type": "stream",
     "text": [
      "<|im_start|>system\n",
      "You are a helpful assistant.<|im_end|>\n",
      "<|im_start|>user\n",
      "Answer the follwing question in French: Who was the first president of USA?<|im_end|>\n",
      "<|im_start|>assistant\n",
      "\n",
      "<|im_start|>system\n",
      "You are a helpful assistant.<|im_end|>\n",
      "<|im_start|>user\n",
      "Answer the follwing question in English: Who was the first president of USA?<|im_end|>\n",
      "<|im_start|>assistant\n",
      "\n"
     ]
    },
    {
     "name": "stderr",
     "output_type": "stream",
     "text": [
      " 28%|██▊       | 14/50 [00:01<00:04,  7.78it/s]\n",
      "100%|██████████| 50/50 [00:05<00:00,  9.26it/s]\n"
     ]
    }
   ],
   "source": [
    "prompt1 = 'Answer the follwing question in French: Who was the first president of USA?'\n",
    "prompt2 = 'Answer the follwing question in English: Who was the first president of USA?'\n",
    "\n",
    "vector_per_layer, output1_str, output2_str = get_steering_vector_per_layer(\n",
    "    model=model,\n",
    "    prompt1=prompt1,\n",
    "    prompt2=prompt2,\n",
    "    verbose=True,\n",
    "    max_new_tokens=50,\n",
    ")"
   ]
  },
  {
   "cell_type": "code",
   "execution_count": 43,
   "id": "4090e31a",
   "metadata": {},
   "outputs": [
    {
     "name": "stdout",
     "output_type": "stream",
     "text": [
      "<|im_start|>system\n",
      "You are a helpful assistant.<|im_end|>\n",
      "<|im_start|>user\n",
      "Answer the follwing question in French: Who was the first president of USA?<|im_end|>\n",
      "<|im_start|>assistant\n",
      "Le premier président des États-Unis a été George Washington.<|im_end|> \n",
      " <|im_start|>system\n",
      "You are a helpful assistant.<|im_end|>\n",
      "<|im_start|>user\n",
      "Answer the follwing question in English: Who was the first president of USA?<|im_end|>\n",
      "<|im_start|>assistant\n",
      "The first president of the United States was George Washington. He served as the nation's first president from 1789 to 1797, and his leadership played a crucial role in shaping the country's early history and establishing its democratic\n"
     ]
    }
   ],
   "source": [
    "print(output1_str, \"\\n\", output2_str)"
   ]
  },
  {
   "cell_type": "code",
   "execution_count": null,
   "id": "3ea5f9eb",
   "metadata": {},
   "outputs": [],
   "source": [
    "def steered_generation(model, prompt, pos, coeff, steering_vector, layer, token_length):\n",
    "    tokens = model.to_tokens(prompt) #tokenize\n",
    "    \n",
    "    def steer_model(value: torch.Tensor, hook: HookPoint) -> torch.Tensor:\n",
    "        value[:, pos, :] += coeff * torch.tensor(steering_vector) #\n",
    "        return value\n",
    "\n",
    "    with model.hooks(fwd_hooks=[(f\"blocks.{layer}.hook_resid_pre\", steer_model)]): \n",
    "        steered_output = model.generate(tokens, max_new_tokens=token_length)\n",
    "        generation =  model.to_string(steered_output)\n",
    "\n",
    "    return generation"
   ]
  },
  {
   "cell_type": "code",
   "execution_count": 24,
   "id": "45ca8722",
   "metadata": {},
   "outputs": [],
   "source": [
    "def generate_with_steering_vector(prompt, model, pos, coeff, layer, token_length, steering_vector):\n",
    "    \n",
    "    temp_tensor = steering_vector[layer]\n",
    "\n",
    "    output = steered_generation(model, prompt, pos, coeff, temp_tensor, layer, token_length)\n",
    "    print(output, \"\\n\")\n"
   ]
  },
  {
   "cell_type": "code",
   "execution_count": 45,
   "id": "a4e7bfff",
   "metadata": {},
   "outputs": [],
   "source": [
    "prompt3 = 'Answer the following in English: Who was the first Tsar of Russia?'"
   ]
  },
  {
   "cell_type": "code",
   "execution_count": 49,
   "id": "cd672279",
   "metadata": {},
   "outputs": [
    {
     "name": "stderr",
     "output_type": "stream",
     "text": [
      "  0%|          | 0/50 [00:00<?, ?it/s]/var/folders/9b/v7bbwprn3l9dyz86rgj2ktmr0000gn/T/ipykernel_21101/1749975884.py:5: UserWarning: To copy construct from a tensor, it is recommended to use sourceTensor.detach().clone() or sourceTensor.detach().clone().requires_grad_(True), rather than torch.tensor(sourceTensor).\n",
      "  value[:, pos, :] += coeff * torch.tensor(steering_vector)\n",
      "100%|██████████| 50/50 [00:03<00:00, 15.80it/s]"
     ]
    },
    {
     "name": "stdout",
     "output_type": "stream",
     "text": [
      "['Answer the following in English: Who was the first Tsar of Russia? Yes, le-Megadian is, est-A-G-E-L-E-R-E-M-E--L-E-A-R-E-M-E-R-E-L-E-A-R-E-M-E-R-E-L-E-A-R-E-M-E-R-E-L-E-A-R'] \n",
      "\n"
     ]
    },
    {
     "name": "stderr",
     "output_type": "stream",
     "text": [
      "\n"
     ]
    }
   ],
   "source": [
    "generate_with_steering_vector(prompt3, model, pos=-1, coeff=2.8, layer=14, token_length=50, steering_vector=vector_per_layer)"
   ]
  }
 ],
 "metadata": {
  "kernelspec": {
   "display_name": ".venv",
   "language": "python",
   "name": "python3"
  },
  "language_info": {
   "codemirror_mode": {
    "name": "ipython",
    "version": 3
   },
   "file_extension": ".py",
   "mimetype": "text/x-python",
   "name": "python",
   "nbconvert_exporter": "python",
   "pygments_lexer": "ipython3",
   "version": "3.9.6"
  }
 },
 "nbformat": 4,
 "nbformat_minor": 5
}

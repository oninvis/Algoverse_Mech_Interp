{
 "cells": [
  {
   "cell_type": "markdown",
   "id": "94f51544",
   "metadata": {},
   "source": [
    "# Example\n",
    "\n",
    "This is just an example of what an experiment notebook could look like. In particular, highlighting how logs should have datetime as a prefix."
   ]
  },
  {
   "cell_type": "code",
   "execution_count": 1,
   "id": "cdf027ac",
   "metadata": {},
   "outputs": [],
   "source": [
    "from src.utils import get_current_time_str\n",
    "from src.utils import get_repo_root\n",
    "import os"
   ]
  },
  {
   "cell_type": "code",
   "execution_count": 5,
   "id": "e035bc76",
   "metadata": {},
   "outputs": [],
   "source": [
    "text = 'example'\n",
    "\n",
    "directory = os.path.join(get_repo_root(), \"logs\", f\"{get_current_time_str()}_example_experiment\")\n",
    "os.makedirs(directory, exist_ok=True)\n",
    "file_path = os.path.join(directory, f\"experiment.txt\")\n",
    "\n",
    "\n",
    "with open(file_path, \"w\") as f:\n",
    "    f.write(text)\n"
   ]
  }
 ],
 "metadata": {
  "kernelspec": {
   "display_name": "algo-neutrality",
   "language": "python",
   "name": "python3"
  },
  "language_info": {
   "codemirror_mode": {
    "name": "ipython",
    "version": 3
   },
   "file_extension": ".py",
   "mimetype": "text/x-python",
   "name": "python",
   "nbconvert_exporter": "python",
   "pygments_lexer": "ipython3",
   "version": "3.12.11"
  }
 },
 "nbformat": 4,
 "nbformat_minor": 5
}
